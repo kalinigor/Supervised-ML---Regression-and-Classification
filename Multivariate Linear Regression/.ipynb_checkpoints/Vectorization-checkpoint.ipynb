{
 "cells": [
  {
   "cell_type": "code",
   "execution_count": 2,
   "id": "2a0a50f3",
   "metadata": {},
   "outputs": [],
   "source": [
    "import numpy as np\n",
    "import time"
   ]
  },
  {
   "cell_type": "code",
   "execution_count": 6,
   "id": "f0833e40",
   "metadata": {},
   "outputs": [
    {
     "name": "stdout",
     "output_type": "stream",
     "text": [
      "np.zeros(4) :  a = [0. 0. 0. 0.], a shape = (4,), a data type = float64\n",
      "np.zeros(4) :  a = [0. 0. 0. 0.], a shape = (4,), a data type = float64\n",
      "np.zeros(4) :  a = [0.17132636 0.77543313 0.62481525 0.25009673], a shape = (4,), a data type = float64\n"
     ]
    }
   ],
   "source": [
    "#Vector Creation\n",
    "\n",
    "# NumPy routines which allocate memory and fill arrays with value\n",
    "\n",
    "a = np.zeros(4); print(f\"np.zeros(4) :  a = {a}, a shape = {a.shape}, a data type = {a.dtype}\")\n",
    "a = np.zeros((4,)); print(f\"np.zeros(4) :  a = {a}, a shape = {a.shape}, a data type = {a.dtype}\")\n",
    "a = np.random.random_sample(4); print(f\"np.zeros(4) :  a = {a}, a shape = {a.shape}, a data type = {a.dtype}\")"
   ]
  },
  {
   "cell_type": "code",
   "execution_count": 8,
   "id": "666f005e",
   "metadata": {},
   "outputs": [
    {
     "name": "stdout",
     "output_type": "stream",
     "text": [
      "np.zeros(4) :  a = [0. 1. 2. 3.], a shape = (4,), a data type = float64\n",
      "np.zeros(4) :  a = [0.54344463 0.4518922  0.27412354 0.18654962], a shape = (4,), a data type = float64\n"
     ]
    }
   ],
   "source": [
    "# NumPy routines which allocate memory and fill arrays with value but do not accept shape as input argument\n",
    "\n",
    "a = np.arange(4.); print(f\"np.zeros(4) :  a = {a}, a shape = {a.shape}, a data type = {a.dtype}\")\n",
    "a = np.random.rand(4); print(f\"np.zeros(4) :  a = {a}, a shape = {a.shape}, a data type = {a.dtype}\")"
   ]
  },
  {
   "cell_type": "code",
   "execution_count": 9,
   "id": "55d46147",
   "metadata": {},
   "outputs": [
    {
     "name": "stdout",
     "output_type": "stream",
     "text": [
      "np.zeros(4) :  a = [5 4 3 2], a shape = (4,), a data type = int32\n",
      "np.zeros(4) :  a = [5. 4. 3. 2.], a shape = (4,), a data type = float64\n"
     ]
    }
   ],
   "source": [
    "# NumPy routines which allocate memory and fill with user specified values\n",
    "\n",
    "a = np.array([5,4,3,2]); print(f\"np.zeros(4) :  a = {a}, a shape = {a.shape}, a data type = {a.dtype}\")\n",
    "a = np.array([5.,4,3,2]); print(f\"np.zeros(4) :  a = {a}, a shape = {a.shape}, a data type = {a.dtype}\")"
   ]
  },
  {
   "cell_type": "code",
   "execution_count": 15,
   "id": "42ab0b6f",
   "metadata": {},
   "outputs": [
    {
     "name": "stdout",
     "output_type": "stream",
     "text": [
      "[0 1 2 3 4 5 6 7 8 9]\n",
      "a[2].shape: () a[2] = 2, Accesing an element returns a scalar\n",
      "a[-1] = 9\n",
      "index 10 is out of bounds for axis 0 with size 10\n"
     ]
    }
   ],
   "source": [
    "#Operations on Vectors\n",
    "\n",
    "a = np.arange(10)\n",
    "print(a)\n",
    "\n",
    "#Access an element\n",
    "\n",
    "print(f\"a[2].shape: {a[2].shape} a[2] = {a[2]}, Accesing an element returns a scalar\")\n",
    "\n",
    "#Access the last element\n",
    "\n",
    "print(f\"a[-1] = {a[-1]}\")\n",
    "\n",
    "#indexs must be within the range of the vector or they will produce and error\n",
    "\n",
    "try:\n",
    "    c = a[10]\n",
    "except Exception as e:\n",
    "    print(e)"
   ]
  },
  {
   "cell_type": "code",
   "execution_count": 21,
   "id": "73f9ac5a",
   "metadata": {},
   "outputs": [
    {
     "name": "stdout",
     "output_type": "stream",
     "text": [
      "a         = [0 1 2 3 4 5 6 7 8 9]\n",
      "a[2:7:1] = [2 3 4 5 6]\n",
      "a[2:7:2]= [2 4 6]\n",
      "a[3:] =  [3 4 5 6 7 8 9]\n",
      "a[:3] =  [0 1 2]\n",
      "a[:] [0 1 2 3 4 5 6 7 8 9]\n"
     ]
    }
   ],
   "source": [
    "#Slicing (start:stop:step)\n",
    "\n",
    "a = np.arange(10)\n",
    "print(f\"a         = {a}\")\n",
    "\n",
    "#access 5 consecutive elements (start:stop:step)\n",
    "c = a[2:7:1]; print(\"a[2:7:1] =\", c)\n",
    "\n",
    "#access 3 elements separated by two\n",
    "c = a[2:7:2]; print(\"a[2:7:2]=\", c)\n",
    "\n",
    "#access all elements index 3 and above\n",
    "\n",
    "c = a[3:]; print(\"a[3:] = \", c)\n",
    "\n",
    "\n",
    "#access all elements below index 3\n",
    "\n",
    "c = a[:3]; print(\"a[:3] = \", c)\n",
    "\n",
    "#access all elements\n",
    "\n",
    "c = a[:]; print(\"a[:]\", c)"
   ]
  },
  {
   "cell_type": "code",
   "execution_count": 25,
   "id": "7d1524c1",
   "metadata": {},
   "outputs": [
    {
     "name": "stdout",
     "output_type": "stream",
     "text": [
      "a: [1 2 3 4]\n",
      "b = -a : [-1 -2 -3 -4]\n",
      "np.sum(a) : 10\n",
      "np.mean(a) : 2.5\n",
      "a**2: [ 1  4  9 16]\n"
     ]
    }
   ],
   "source": [
    "#Single vector operations\n",
    "\n",
    "a = np.array([1,2,3,4])\n",
    "print(f\"a: {a}\")\n",
    "#negate elements of a\n",
    "b = -a\n",
    "print(f\"b = -a : {b}\")\n",
    "\n",
    "\n",
    "#Sum all elements of a, returns a scalar\n",
    "\n",
    "b = np.sum(a)\n",
    "print(f\"np.sum(a) : {b}\")\n",
    "\n",
    "b = np.mean(a)\n",
    "print(f\"np.mean(a) : {b}\")\n",
    "\n",
    "b = a**2\n",
    "print(f\"a**2: {b}\")"
   ]
  },
  {
   "cell_type": "code",
   "execution_count": 28,
   "id": "5057d601",
   "metadata": {},
   "outputs": [
    {
     "name": "stdout",
     "output_type": "stream",
     "text": [
      "Binary operations work element wise (if same size): [0 0 6 8]\n"
     ]
    }
   ],
   "source": [
    "#Vector Vector element-wise operations\n",
    "\n",
    "a = np.array([1,2,3,4])\n",
    "b = np.array([-1,-2,3,4])\n",
    "print(f\"Binary operations work element wise (if same size): {a + b}\")"
   ]
  },
  {
   "cell_type": "code",
   "execution_count": 29,
   "id": "5c7b7d1a",
   "metadata": {},
   "outputs": [
    {
     "name": "stdout",
     "output_type": "stream",
     "text": [
      "operands could not be broadcast together with shapes (4,) (2,) \n"
     ]
    }
   ],
   "source": [
    "#Mismatched vectors\n",
    "\n",
    "c = np.array([1,2])\n",
    "\n",
    "try:\n",
    "    d = a + c\n",
    "\n",
    "except Exception as e:\n",
    "    print(e)"
   ]
  },
  {
   "cell_type": "code",
   "execution_count": 30,
   "id": "048f517a",
   "metadata": {},
   "outputs": [
    {
     "name": "stdout",
     "output_type": "stream",
     "text": [
      "b = 5 * a : [ 5 10 15 20]\n"
     ]
    }
   ],
   "source": [
    "#Scalaer Vector Operations\n",
    "\n",
    "a = np.array([1,2,3,4])\n",
    "\n",
    "#multiply a by a scalar\n",
    "\n",
    "b = 5 * a\n",
    "print(f\"b = 5 * a : {b}\")"
   ]
  },
  {
   "cell_type": "code",
   "execution_count": 31,
   "id": "2a818ebf",
   "metadata": {},
   "outputs": [],
   "source": [
    "#Vector to Vector dot product (multiplies the values in two vectors element-wise and then sums the result).\n",
    "\n",
    "def my_dot(a,b):\n",
    "    \"\"\"\n",
    "   Compute the dot product of two vectors\n",
    " \n",
    "    Args:\n",
    "      a (ndarray (n,)):  input vector \n",
    "      b (ndarray (n,)):  input vector with same dimension as a\n",
    "    \n",
    "    Returns:\n",
    "      x (scalar): \n",
    "    \"\"\"\n",
    "    x = 0\n",
    "    for i in range(a.shape[0]):\n",
    "        x = x + a[i] * b[i]\n",
    "    return x"
   ]
  },
  {
   "cell_type": "code",
   "execution_count": 32,
   "id": "f60e46cd",
   "metadata": {},
   "outputs": [
    {
     "name": "stdout",
     "output_type": "stream",
     "text": [
      "my_dot(a,b) = 24\n"
     ]
    }
   ],
   "source": [
    "#Test 1-D\n",
    "\n",
    "a = np.array([1,2,3,4])\n",
    "b = np.array([-1, 4, 3, 2])\n",
    "\n",
    "print(f\"my_dot(a,b) = {my_dot(a,b)}\")"
   ]
  },
  {
   "cell_type": "code",
   "execution_count": 34,
   "id": "a2062a68",
   "metadata": {},
   "outputs": [
    {
     "name": "stdout",
     "output_type": "stream",
     "text": [
      "NumPy 1-D np.dot(a, b) = 24, np.dot(a, b).shape = () \n",
      "NumPy 1-D np.dot(b, a) = 24, np.dot(a, b).shape = () \n"
     ]
    }
   ],
   "source": [
    "#Using numpy np.dot function\n",
    "\n",
    "# test 1-D\n",
    "a = np.array([1, 2, 3, 4])\n",
    "b = np.array([-1, 4, 3, 2])\n",
    "\n",
    "c = np.dot(a,b)\n",
    "print(f\"NumPy 1-D np.dot(a, b) = {c}, np.dot(a, b).shape = {c.shape} \") \n",
    "c = np.dot(b, a)\n",
    "print(f\"NumPy 1-D np.dot(b, a) = {c}, np.dot(a, b).shape = {c.shape} \")"
   ]
  },
  {
   "cell_type": "code",
   "execution_count": 37,
   "id": "91f30174",
   "metadata": {},
   "outputs": [
    {
     "name": "stdout",
     "output_type": "stream",
     "text": [
      "np.dot(a, b) =  2501072.5817\n",
      "Vectorized version duration: 12.0049 ms \n",
      "my_dot(a, b) =  2501072.5817\n",
      "loop version duration: 6567.0450 ms \n"
     ]
    }
   ],
   "source": [
    "#Vectors vs Loops\n",
    "\n",
    "np.random.seed(1)\n",
    "\n",
    "a = np.random.rand(10000000)\n",
    "b = np.random.rand(10000000)\n",
    "\n",
    "tic = time.time() #capture start time\n",
    "c = np.dot(a,b)\n",
    "toc = time.time()\n",
    "\n",
    "print(f\"np.dot(a, b) =  {c:.4f}\")\n",
    "print(f\"Vectorized version duration: {1000*(toc-tic):.4f} ms \")\n",
    "\n",
    "tic = time.time()  # capture start time\n",
    "c = my_dot(a,b)\n",
    "toc = time.time()  # capture end time\n",
    "\n",
    "print(f\"my_dot(a, b) =  {c:.4f}\")\n",
    "print(f\"loop version duration: {1000*(toc-tic):.4f} ms \")\n",
    "\n",
    "del(a);del(b)  #remove these big arrays from memory"
   ]
  },
  {
   "cell_type": "code",
   "execution_count": 40,
   "id": "12792956",
   "metadata": {},
   "outputs": [
    {
     "name": "stdout",
     "output_type": "stream",
     "text": [
      "X[1] has shape (1,)\n",
      "w has shape (1,)\n",
      "c has shape ()\n"
     ]
    }
   ],
   "source": [
    "#Example\n",
    "\n",
    "X = np.array([[1], [2], [3], [4]])\n",
    "w = np.array([2])\n",
    "c = np.dot(X[1], w)\n",
    "\n",
    "print(f\"X[1] has shape {X[1].shape}\")\n",
    "print(f\"w has shape {w.shape}\")\n",
    "print(f\"c has shape {c.shape}\")\n",
    "\n"
   ]
  },
  {
   "cell_type": "code",
   "execution_count": null,
   "id": "32af1765",
   "metadata": {},
   "outputs": [],
   "source": [
    "#Matrices\n",
    "\n"
   ]
  }
 ],
 "metadata": {
  "kernelspec": {
   "display_name": "Python 3",
   "language": "python",
   "name": "python3"
  },
  "language_info": {
   "codemirror_mode": {
    "name": "ipython",
    "version": 3
   },
   "file_extension": ".py",
   "mimetype": "text/x-python",
   "name": "python",
   "nbconvert_exporter": "python",
   "pygments_lexer": "ipython3",
   "version": "3.8.8"
  }
 },
 "nbformat": 4,
 "nbformat_minor": 5
}
