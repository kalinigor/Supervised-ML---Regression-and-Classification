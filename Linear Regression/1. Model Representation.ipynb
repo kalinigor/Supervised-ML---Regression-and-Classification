{
 "cells": [
  {
   "cell_type": "code",
   "execution_count": 3,
   "id": "95538398",
   "metadata": {},
   "outputs": [],
   "source": [
    "#Linear Regression with one variable\n",
    "\n",
    "import numpy as np\n",
    "import matplotlib.pyplot as plt\n"
   ]
  },
  {
   "cell_type": "code",
   "execution_count": 4,
   "id": "7103d04c",
   "metadata": {},
   "outputs": [
    {
     "name": "stdout",
     "output_type": "stream",
     "text": [
      "x_train= [1. 2.]\n",
      "y_train= [300. 500.]\n"
     ]
    }
   ],
   "source": [
    "#X_train is the input variable (size in 1000 square feet)\n",
    "#y_train is the target (price in 1000s of dollars)\n",
    "\n",
    "x_train = np.array([1.0,2.0])\n",
    "y_train = np.array([300.0, 500.0])\n",
    "print(f\"x_train= {x_train}\")\n",
    "print(f\"y_train= {y_train}\")\n"
   ]
  },
  {
   "cell_type": "code",
   "execution_count": 5,
   "id": "0f3e7335",
   "metadata": {},
   "outputs": [
    {
     "name": "stdout",
     "output_type": "stream",
     "text": [
      "x_train.shape : (2,)\n",
      "Number of training examples is: 2\n"
     ]
    }
   ],
   "source": [
    "#m - number of training examples. Numpy shape returns tuple for each dimension.\n",
    "\n",
    "print(f\"x_train.shape : {x_train.shape}\")\n",
    "m = x_train.shape[0]\n",
    "print(f\"Number of training examples is: {m}\")\n"
   ]
  },
  {
   "cell_type": "code",
   "execution_count": 6,
   "id": "d309ce3c",
   "metadata": {},
   "outputs": [
    {
     "name": "stdout",
     "output_type": "stream",
     "text": [
      "Number of training examples is: 2\n"
     ]
    }
   ],
   "source": [
    "#Other option using len function\n",
    "\n",
    "m = len(x_train)\n",
    "print(f\"Number of training examples is: {m}\")"
   ]
  },
  {
   "cell_type": "code",
   "execution_count": 7,
   "id": "84808648",
   "metadata": {},
   "outputs": [
    {
     "name": "stdout",
     "output_type": "stream",
     "text": [
      "(x^(0), y^(0)) = (1.0, 300.0)\n",
      "(x^(1), y^(1)) = (2.0, 500.0)\n"
     ]
    }
   ],
   "source": [
    "#All training examples\n",
    "\n",
    "for i in range(m):\n",
    "    x_i = x_train[i]\n",
    "    y_i = y_train[i]\n",
    "    print(f\"(x^({i}), y^({i})) = ({x_i}, {y_i})\")"
   ]
  },
  {
   "cell_type": "code",
   "execution_count": 8,
   "id": "cd60cb1d",
   "metadata": {},
   "outputs": [
    {
     "data": {
      "image/png": "[encoded data removed]",
      "text/plain": [
       "<Figure size 432x288 with 1 Axes>"
      ]
     },
     "metadata": {
      "needs_background": "light"
     },
     "output_type": "display_data"
    }
   ],
   "source": [
    "#Ploting the data\n",
    "\n",
    "plt.scatter(x_train, y_train, marker=\"x\", c='r')\n",
    "plt.title(\"Housing Prices\")\n",
    "plt.ylabel(\"Price (in 1000s of $)\")\n",
    "plt.xlabel(\"Price (1000 sqft)\")\n",
    "plt.show()"
   ]
  },
  {
   "cell_type": "code",
   "execution_count": 9,
   "id": "85b820e9",
   "metadata": {},
   "outputs": [
    {
     "name": "stdout",
     "output_type": "stream",
     "text": [
      "w:200\n",
      "b:100\n"
     ]
    }
   ],
   "source": [
    "#Model parameters\n",
    "\n",
    "w = 200\n",
    "b = 100\n",
    "\n",
    "print(f\"w:{w}\")\n",
    "print(f\"b:{b}\")"
   ]
  },
  {
   "cell_type": "code",
   "execution_count": 10,
   "id": "f60cb9e0",
   "metadata": {},
   "outputs": [],
   "source": [
    "def compute_model_output(x, w, b):\n",
    "    \"\"\"\n",
    "    Computes the prediction of a linear model\n",
    "    Args:\n",
    "      x (ndarray (m,)): Data, m examples \n",
    "      w,b (scalar)    : model parameters  \n",
    "    Returns\n",
    "      y (ndarray (m,)): target values\n",
    "    \"\"\"\n",
    "    m = x.shape[0]\n",
    "    f_wb = np.zeros(m)\n",
    "    \n",
    "    for i in range(m):\n",
    "        f_wb[i] = w * x[i] + b\n",
    "    \n",
    "    return f_wb "
   ]
  },
  {
   "cell_type": "code",
   "execution_count": 13,
   "id": "adf7861f",
   "metadata": {},
   "outputs": [
    {
     "data": {
      "image/png": "[encoded data removed]",
      "text/plain": [
       "<Figure size 432x288 with 1 Axes>"
      ]
     },
     "metadata": {
      "needs_background": "light"
     },
     "output_type": "display_data"
    }
   ],
   "source": [
    "#Plotting the output\n",
    "\n",
    "lr_model = compute_model_output(x_train, w, b)\n",
    "\n",
    "#Plot our model prediction\n",
    "plt.plot(x_train, lr_model, c='b', label='Model prediction')\n",
    "#Add data points\n",
    "plt.scatter(x_train, y_train, marker='x', c='r', label ='Actual values')\n",
    "\n",
    "plt.title(\"Housing Prices\")\n",
    "plt.ylabel(\"Price (in 1000s of $)\")\n",
    "plt.xlabel(\"Size (1000s sqft)\")\n",
    "plt.legend()\n",
    "\n",
    "plt.show()"
   ]
  },
  {
   "cell_type": "code",
   "execution_count": 16,
   "id": "fc107371",
   "metadata": {},
   "outputs": [
    {
     "name": "stdout",
     "output_type": "stream",
     "text": [
      "$ 340 thousand dollars\n"
     ]
    }
   ],
   "source": [
    "#PREDICTION\n",
    "\n",
    "#House with 1200 sqft. \n",
    "\n",
    "w = 200\n",
    "b = 100\n",
    "x_i = 1.2\n",
    "\n",
    "cost_1200sqft = w * x_i + b\n",
    "\n",
    "print(f\"${cost_1200sqft: .0f} thousand dollars\")"
   ]
  },
  {
   "cell_type": "code",
   "execution_count": null,
   "id": "9da146fc",
   "metadata": {},
   "outputs": [],
   "source": []
  }
 ],
 "metadata": {
  "kernelspec": {
   "display_name": "Python 3",
   "language": "python",
   "name": "python3"
  },
  "language_info": {
   "codemirror_mode": {
    "name": "ipython",
    "version": 3
   },
   "file_extension": ".py",
   "mimetype": "text/x-python",
   "name": "python",
   "nbconvert_exporter": "python",
   "pygments_lexer": "ipython3",
   "version": "3.8.8"
  }
 },
 "nbformat": 4,
 "nbformat_minor": 5
}
